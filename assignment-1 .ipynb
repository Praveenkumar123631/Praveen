{
 "cells": [
  {
   "cell_type": "markdown",
   "id": "7db40232-7f90-404d-8caa-0ce57ffa94a4",
   "metadata": {},
   "source": [
    "# M.praveen kumar"
   ]
  },
  {
   "cell_type": "markdown",
   "id": "393e81e1-8319-43f4-8d87-af316bdbab10",
   "metadata": {},
   "source": [
    "***1.Ask the user to enter a number. print out the square of the number ,sample output is shown below***"
   ]
  },
  {
   "cell_type": "code",
   "execution_count": 5,
   "id": "f88759fb-3129-4547-8210-09ab07d3ef20",
   "metadata": {},
   "outputs": [
    {
     "name": "stdin",
     "output_type": "stream",
     "text": [
      "enter the number1: 6\n"
     ]
    },
    {
     "name": "stdout",
     "output_type": "stream",
     "text": [
      "the square of 6 is 36\n"
     ]
    }
   ],
   "source": [
    "num1=eval(input(\"enter the number1:\"))\n",
    "square=num1*num1\n",
    "print(\"the square of {} is {}\".format(num1,square))"
   ]
  },
  {
   "cell_type": "markdown",
   "id": "6f6512bb-578c-4048-83c2-b740ea1125c7",
   "metadata": {},
   "source": [
    "***2. ask the users to enter a number x. print out x,2x,3x,4x,and5x, each separated by three dashes, like below. enter a number:77---14---21---28---35***"
   ]
  },
  {
   "cell_type": "code",
   "execution_count": 1,
   "id": "b2d231a2-5586-4d72-8aeb-cd719fd98cd2",
   "metadata": {},
   "outputs": [
    {
     "name": "stdin",
     "output_type": "stream",
     "text": [
      "enter the value of x: 4\n"
     ]
    },
    {
     "name": "stdout",
     "output_type": "stream",
     "text": [
      "4---8---12---16---20\n"
     ]
    }
   ],
   "source": [
    "x = eval(input(\"enter the value of x:\"))\n",
    "print(x,2*x,3*x,4*x,5*x,sep=\"---\")\n",
    "\n",
    "         "
   ]
  },
  {
   "cell_type": "markdown",
   "id": "beddfed8-b323-402a-9fb5-8bb430c128ee",
   "metadata": {},
   "source": [
    "***3.write a program that asks the users for a weightin kilograms and conversts to pounds there are 2.2pounds in a kilograms***"
   ]
  },
  {
   "cell_type": "code",
   "execution_count": 2,
   "id": "455c9e9b-c41b-4436-a73d-d0c5e2765846",
   "metadata": {},
   "outputs": [
    {
     "name": "stdin",
     "output_type": "stream",
     "text": [
      "enter the weight in kilograms: 12\n"
     ]
    },
    {
     "name": "stdout",
     "output_type": "stream",
     "text": [
      "the converts of weight is 26.400000000000002 in pounds\n"
     ]
    }
   ],
   "source": [
    "weight= eval(input(\"enter the weight in kilograms:\"))\n",
    "pounds=weight*2.2\n",
    "print(\"the converts of weight is {} in pounds\".format (pounds)) "
   ]
  },
  {
   "cell_type": "markdown",
   "id": "59cdb948-059d-471a-a610-ca6504bf6626",
   "metadata": {},
   "source": [
    "***4 write a program that asks the users to enter three numbers (use three separateinput statement).creat variables called total and average that hold the sum and average of the three numbers and print out the \n",
    "sum and average of the three numbers and point out vlaues of total and average***"
   ]
  },
  {
   "cell_type": "code",
   "execution_count": 4,
   "id": "6d1b5425-7b20-4ec9-ad72-6230907ae9b9",
   "metadata": {},
   "outputs": [
    {
     "name": "stdin",
     "output_type": "stream",
     "text": [
      "enter the number1: 20\n",
      "enter the number2: 10\n",
      "enter the number3: 30\n"
     ]
    },
    {
     "name": "stdout",
     "output_type": "stream",
     "text": [
      "the sum of the 20,10 and 30 is 60 and there average is 20.0\n",
      "the sum of the 20,10 and 30 is 60 and 20.0\n"
     ]
    }
   ],
   "source": [
    "num1=eval(input(\"enter the number1:\"))\n",
    "num2=eval(input(\"enter the number2:\"))\n",
    "num3=eval(input(\"enter the number3:\"))\n",
    "total=num1+num2+num3\n",
    "avg=total/3\n",
    "print(\"the sum of the {},{} and {} is {} and there average is {}\".format(num1,num2,num3,total,avg))\n",
    "print(f\"the sum of the {num1},{num2} and {num3} is {total} and {avg}\")\n"
   ]
  },
  {
   "cell_type": "markdown",
   "id": "44c409e0-5e2c-4f44-9c7d-8ba6110e90c3",
   "metadata": {},
   "source": [
    "***5.A lot of cell phones have tip calculators.write one . ask the users for the price of\n",
    "the meal and the percent tip they wnat to have. then print both the tip amount and the total bill with the tip included***"
   ]
  },
  {
   "cell_type": "code",
   "execution_count": 2,
   "id": "387f79e6-53c7-4fdb-ae73-a3131b53fb33",
   "metadata": {},
   "outputs": [
    {
     "name": "stdin",
     "output_type": "stream",
     "text": [
      "enter the bill amount: 1000\n",
      "enter the tip amount: 10\n"
     ]
    },
    {
     "name": "stdout",
     "output_type": "stream",
     "text": [
      "the price of the bill 1000 and 10 is 100.0\n"
     ]
    }
   ],
   "source": [
    "billamount =eval(input(\"enter the bill amount:\"))\n",
    "tipamount =eval(input(\"enter the tip amount:\"))\n",
    "total= (billamount*tipamount)/100\n",
    "print (\"the price of the bill {} and {} is {}\".format(billamount,tipamount,total))\n",
    "                          "
   ]
  },
  {
   "cell_type": "code",
   "execution_count": null,
   "id": "3a43c7e9-65af-4c9e-bd85-5fd4dbe85275",
   "metadata": {},
   "outputs": [],
   "source": []
  }
 ],
 "metadata": {
  "kernelspec": {
   "display_name": "Python 3 (ipykernel)",
   "language": "python",
   "name": "python3"
  },
  "language_info": {
   "codemirror_mode": {
    "name": "ipython",
    "version": 3
   },
   "file_extension": ".py",
   "mimetype": "text/x-python",
   "name": "python",
   "nbconvert_exporter": "python",
   "pygments_lexer": "ipython3",
   "version": "3.11.7"
  }
 },
 "nbformat": 4,
 "nbformat_minor": 5
}
